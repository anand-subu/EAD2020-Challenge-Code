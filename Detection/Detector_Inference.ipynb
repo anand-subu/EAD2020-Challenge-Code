{
 "cells": [
  {
   "cell_type": "code",
   "execution_count": null,
   "metadata": {},
   "outputs": [],
   "source": [
    "from keras_retinanet.utils.image import read_image_bgr, preprocess_image, resize_image\n",
    "from keras_retinanet.utils.visualization import draw_box, draw_caption\n",
    "from keras_retinanet.utils.colors import label_color\n",
    "from keras_retinanet import models\n",
    "\n",
    "import matplotlib.pyplot as plt\n",
    "import cv2\n",
    "import os\n",
    "import numpy as np\n",
    "from tqdm import tqdm\n",
    "import configparser\n"
   ]
  },
  {
   "cell_type": "code",
   "execution_count": null,
   "metadata": {},
   "outputs": [],
   "source": [
    "class ObjectDetector:\n",
    "    \n",
    "    def __init__(self,retinanet_weight_path,class_names,viz_path,text_path,backbone,palette):\n",
    "        \n",
    "        self.class_names = class_names\n",
    "        self.retinanet_weights = retinanet_weight_path\n",
    "        self.viz_path = viz_path\n",
    "        self.text_path = text_path\n",
    "        self.palette = palette\n",
    "        self.backbone = backbone\n",
    "        \n",
    "        \n",
    "    def load_retinanet(self):\n",
    "        model = models.load_model(self.retinanet_weights, backbone_name=self.backbone)\n",
    "        self.model = models.convert_model(model)\n",
    "        \n",
    "    \n",
    "    def filter_bbox(self,boxes,scores,classes,score_threshold=0.3):\n",
    "        res = np.where(scores[0] ==(list(filter(lambda i: i < score_threshold, scores[0]))[0]))[0][0]\n", "#scores returned by retinanet model are already retured as sorted from highest to lowest in terms of confidence score, so by filtering like this, we get indices of predictions that are less than confidence threshold, so we retain outputs from start till last prediction that is greater than equal to score threshold\n", 
    "        return boxes[0][0:res],scores[0][0:res],classes[0][0:res]\n",
    "    \n",
    "    \n",
    "    def convert_detections_to_dict(self,boxes,scores,classes):\n",
    "        scores_map = {k:[] for k in self.class_names}\n",
    "        for box,score,class_item in zip(boxes,scores,classes):\n",
    "            scores_map[self.class_names[class_item]].append([box[0],box[1],box[2],box[3],score])\n",
    "            \n",
    "        return scores_map\n",
    "    \n",
    "    def write_to_file(self,filename,scores_map):\n",
    "        \n",
    "        file = open(os.path.join(self.text_path,os.path.splitext(filename)[0]+\".txt\"),\"w\")\n",
    "        for key in scores_map:\n",
    "            values = scores_map[key]\n",
    "            if values == []:\n",
    "                continue\n",
    "            for x1,y1,x2,y2,score in values:\n",
    "                file.write(key+\" \"+str(score)+\" \"+str(x1)+\" \"+str(y1)+\" \"+str(x2)+\" \"+str(y2)+\"\\n\")\n",
    "        file.close()\n",
    "                    \n",
    "    def perform_retinanet_inference(self,image_path,write_to_text=True):\n",
    "            \n",
    "            image = read_image_bgr(image_path)\n",
    "            image_temp = image.copy()\n",
    "            image = preprocess_image(image)\n",
    "            image, scale = resize_image(image)\n",
    "            boxes, scores, labels = self.model.predict_on_batch(np.expand_dims(image, axis=0))\n",
    "            boxes /= scale\n",
    "\n",
    "            boxes, scores, labels = self.filter_bbox(boxes,scores,labels)\n",
    "            \n",
    "            scores_map = self.convert_detections_to_dict(boxes,scores,labels)\n",
    "            self.res = scores_map.copy()\n",
    "            self.res1 = scores_map\n",
    "            for key in scores_map:\n",
    "                bboxes = scores_map[key]\n",
    "                if bboxes==[]:\n",
    "                    continue\n",
    "\n",
    "                for bbox in bboxes:\n",
    "                    cv2.rectangle(image_temp, (int(bbox[0]), int(bbox[1])), (int(bbox[2]), int(bbox[3])),self.palette[key], 2)\n",
    "\n",
    "                    cv2.putText(image_temp, key, (int(bbox[0]), int(bbox[1]) - 15),\n",
    "                        cv2.FONT_HERSHEY_SIMPLEX, 0.45, (0, 255, 0), 2)\n",
    "            cv2.imwrite(os.path.join(self.viz_path,file),image_temp)\n",
    "            \n",
    "            \n",
    "            if write_to_text:\n",
    "                self.write_to_file(os.path.splitext(image_path.split(\"/\")[1])[0]+\".jpg\",scores_map)\n"
   ]
  },
  {
   "cell_type": "code",
   "execution_count": null,
   "metadata": {},
   "outputs": [],
   "source": [
    "config = configparser.ConfigParser()\n",
    "config.read('config.ini')\n",
    "\n",
    "PALETTE = {\"specularity\":(255,0,0),\"saturation\":(0,255,0),\"artifact\":(0,0,255),\"blur\":(0,255,255),\"contrast\":(238,130,238),\"bubbles\":(211,0,148),\"instrument\":(0,0,0),\"blood\":(127,127,127)}\n",
    "\n",
    "\n",
    "RETINANET_WEIGHTS = config['model_params']['retinanet_weights']\n",
    "TEXT_PATH = config['model_params']['text_path']\n",
    "VIS_PATH = config['model_params']['vis_path']\n",
    "CLASS_NAMES = config['model_params']['class_names'].split(\",\")\n",
    "IMAGE_PATH = config['model_params']['image_path']\n",
    "BACKBONE = config['model_params']['backbone']\n",
    "\n",
    "\n",
    "\n",
    "obj_det = ObjectDetector(RETINANET_WEIGHTS,CLASS_NAMES,VIS_PATH,TEXT_PATH,BACKBONE,PALETTE)"
   ]
  },
  {
   "cell_type": "code",
   "execution_count": null,
   "metadata": {},
   "outputs": [],
   "source": [
    "obj_det.load_retinanet()"
   ]
  },
  {
   "cell_type": "code",
   "execution_count": null,
   "metadata": {},
   "outputs": [],
   "source": [
    "files = os.listdir(IMAGE_PATH)\n",
    "\n",
    "for file in tqdm(files):\n",
    "    obj_det.perform_retinanet_inference(os.path.join(IMAGE_PATH,file))\n",
    "    \n"
   ]
  }
 ],
 "metadata": {
  "kernelspec": {
   "display_name": "Python 3",
   "language": "python",
   "name": "python3"
  },
  "language_info": {
   "codemirror_mode": {
    "name": "ipython",
    "version": 3
   },
   "file_extension": ".py",
   "mimetype": "text/x-python",
   "name": "python",
   "nbconvert_exporter": "python",
   "pygments_lexer": "ipython3",
   "version": "3.6.9"
  }
 },
 "nbformat": 4,
 "nbformat_minor": 2
}
